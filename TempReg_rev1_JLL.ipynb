{
 "cells": [
  {
   "cell_type": "markdown",
   "id": "17e43516",
   "metadata": {},
   "source": [
    "# Temperature Regulation Energy Initiative for T-Stat Sensors on FPT Units\n",
    "### JLL @ BMS, 400 Dexter, SEA\n",
    "#### Julian Thornton, EIT"
   ]
  },
  {
   "cell_type": "code",
   "execution_count": 366,
   "id": "ed6be742",
   "metadata": {},
   "outputs": [],
   "source": [
    "#Setup lists\n",
    "\n",
    "#Program Hour Runtime\n",
    "Time = []\n",
    "#Outside Air Temp (probe)\n",
    "External_Temp = []\n",
    "#Inside Air Temp Signal\n",
    "Internal_Temp = []\n",
    "#Required Degree of Heating to Reach Goal Temp (not sure if this is useful info)\n",
    "Htg_Requirement = []\n",
    "#Program Calls\n",
    "Info = []"
   ]
  },
  {
   "cell_type": "code",
   "execution_count": 367,
   "id": "399534f4",
   "metadata": {},
   "outputs": [],
   "source": [
    "#Monitoring Period t=frequency(h), L=record length(h), Start_t = starting hour(1 - 24)[1am - 12pm]\n",
    "\n",
    "t = 1 #hour\n",
    "L = 8 #hour\n",
    "Start_t = 22\n",
    "for i in range(L):\n",
    "    if Start_t+i*t > 24:\n",
    "        Time.append(Start_t-24 + i*t)\n",
    "    else:\n",
    "        Time.append(Start_t + i*t)"
   ]
  },
  {
   "cell_type": "code",
   "execution_count": 368,
   "id": "0705b056",
   "metadata": {},
   "outputs": [],
   "source": [
    "#Grabs temps from sensor (Get from sensor, hard coded atm)\n",
    "\n",
    "External_Temp = [55, 50, 41, 40, 30, 42, 50, 57]    "
   ]
  },
  {
   "cell_type": "code",
   "execution_count": 369,
   "id": "a09d0772",
   "metadata": {},
   "outputs": [],
   "source": [
    "#Setup Dictionary\n",
    "\n",
    "Dict = {\"Info\":Info, \"Time\":Time, \"External Temp\":External_Temp, \"Internal Temp\":Internal_Temp, \"Heating Requirement\":Htg_Requirement}"
   ]
  },
  {
   "cell_type": "code",
   "execution_count": 370,
   "id": "5002e2f1",
   "metadata": {},
   "outputs": [],
   "source": [
    "##User Inputs##\n",
    "\n",
    "#MIN Allowable Internal Temp. Setpoint\n",
    "MiAIT = 55\n",
    "#MAX Allowable Internal Temp. Setpoint\n",
    "MxAIT = 70\n",
    "#Heating Goal Setpoint\n",
    "HtgGoal = 5\n",
    "#Occupied Temp\n",
    "Occ_Temp = 71\n",
    "#Degrees/Hour Capabilities of Heating Coils\n",
    "Deg_Hour = 15"
   ]
  },
  {
   "cell_type": "code",
   "execution_count": 371,
   "id": "d98eea7a",
   "metadata": {},
   "outputs": [],
   "source": [
    "#First Arrival Override (This could be estimated for machine learning/regression analysis)\n",
    "\n",
    "#Determine how much time is needed to heat the building\n",
    "#Assume Min Temp -> Occ Temp\n",
    "Temp_Change_Needed = round((Occ_Temp - MiAIT)/Deg_Hour)+t #hours index"
   ]
  },
  {
   "cell_type": "code",
   "execution_count": 372,
   "id": "9168083c",
   "metadata": {},
   "outputs": [],
   "source": [
    "for i in range(len(Dict[\"Time\"])):\n",
    "    Dict[\"Info\"].append(\"\")\n",
    "\n",
    "for i in range(len(Dict[\"Time\"])):\n",
    "    if i == 0:\n",
    "        Dict[\"Info\"][i] = \"Start Program\"\n",
    "    elif i == len(Dict[\"Time\"])-Temp_Change_Needed:\n",
    "        Dict[\"Info\"][i] = \"End Program\"\n",
    "    elif i == len(Dict[\"Time\"])-1:\n",
    "        Dict[\"Info\"][i] = \"Occupied\"\n",
    "    else:\n",
    "        Dict[\"Info\"][i] = \"t_\"+str(i+1)"
   ]
  },
  {
   "cell_type": "code",
   "execution_count": 373,
   "id": "6d68b6ff",
   "metadata": {
    "scrolled": true
   },
   "outputs": [],
   "source": [
    "#Determine and set the optimal internal temperature based on the external temp and limits\n",
    "\n",
    "for x in range(len(Time)):\n",
    "    #First Arrival Override\n",
    "    if Dict[\"Time\"][x] == Dict[\"Time\"][-Temp_Change_Needed]:\n",
    "        for remaining in range(Temp_Change_Needed):\n",
    "            Dict[\"Internal Temp\"].append(Occ_Temp)\n",
    "        break\n",
    "            \n",
    "    if Dict[\"External Temp\"][x] + HtgGoal < MiAIT:\n",
    "        Dict[\"Internal Temp\"].append(MiAIT)\n",
    "    elif Dict[\"External Temp\"][x] + HtgGoal > MxAIT:\n",
    "        Dict[\"Internal Temp\"].append(Dict[\"External Temp\"][x])\n",
    "    else:\n",
    "        Dict[\"Internal Temp\"].append(Dict[\"External Temp\"][x] + HtgGoal)\n",
    "    Dict[\"Heating Requirement\"].append(Dict[\"Internal Temp\"][x] - Dict[\"External Temp\"][x])\n",
    "    \n",
    "    #Dict[\"Internal Temp\"][x] transmitted to FPT Unit"
   ]
  },
  {
   "cell_type": "code",
   "execution_count": 374,
   "id": "ac59c2a3",
   "metadata": {
    "scrolled": true
   },
   "outputs": [
    {
     "data": {
      "text/plain": [
       "{'Info': ['Start Program',\n",
       "  't_2',\n",
       "  't_3',\n",
       "  't_4',\n",
       "  't_5',\n",
       "  't_6',\n",
       "  'End Program',\n",
       "  'Occupied'],\n",
       " 'Time': [22, 23, 24, 1, 2, 3, 4, 5],\n",
       " 'External Temp': [55, 50, 41, 40, 30, 42, 50, 57],\n",
       " 'Internal Temp': [60, 55, 55, 55, 55, 55, 71, 71],\n",
       " 'Heating Requirement': [5, 5, 14, 15, 25, 13]}"
      ]
     },
     "execution_count": 374,
     "metadata": {},
     "output_type": "execute_result"
    }
   ],
   "source": [
    "#Output Dictionary\n",
    "\n",
    "Dict"
   ]
  },
  {
   "cell_type": "markdown",
   "id": "59171a32",
   "metadata": {},
   "source": [
    "# Fin\n",
    "##### You can save as much as 10% a year on heating and cooling by simply turning your thermostat back 7°-10°F for 8 hours a day from its normal setting.\n",
    "##### "
   ]
  },
  {
   "cell_type": "code",
   "execution_count": null,
   "id": "a9f67689",
   "metadata": {},
   "outputs": [],
   "source": []
  }
 ],
 "metadata": {
  "kernelspec": {
   "display_name": "Python 3 (ipykernel)",
   "language": "python",
   "name": "python3"
  },
  "language_info": {
   "codemirror_mode": {
    "name": "ipython",
    "version": 3
   },
   "file_extension": ".py",
   "mimetype": "text/x-python",
   "name": "python",
   "nbconvert_exporter": "python",
   "pygments_lexer": "ipython3",
   "version": "3.10.9"
  }
 },
 "nbformat": 4,
 "nbformat_minor": 5
}
